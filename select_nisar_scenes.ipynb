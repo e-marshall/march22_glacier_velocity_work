{
 "cells": [
  {
   "cell_type": "code",
   "execution_count": 1,
   "id": "3ea0f1a8",
   "metadata": {},
   "outputs": [],
   "source": [
    "#4-6, notebook to import NISAR frames and RGI data, find NISAR frames w/ glaciers of interest (10km2 or larger)"
   ]
  },
  {
   "cell_type": "code",
   "execution_count": 8,
   "id": "850790a6",
   "metadata": {},
   "outputs": [],
   "source": [
    "import geopandas as gpd\n",
    "import os\n",
    "import numpy as np\n",
    "import matplotlib.pyplot as plt\n",
    "from shapely import geometry\n",
    "import fiona\n",
    "import pandas as pd\n",
    "\n",
    "import cartopy\n",
    "import cartopy.crs as ccrs\n",
    "import matplotlib.pyplot as plt\n",
    "import cartopy.feature as cfeature\n"
   ]
  },
  {
   "cell_type": "markdown",
   "id": "b473ee3e",
   "metadata": {},
   "source": [
    "**Beginning section finds frames from a single nisar path that contain glaciers of interest**\n",
    "- these steps take a kml file of a single track that was generated using ogr2ogr via command line\n",
    "- 4/6 nighttime - not sure what happened, but maybe in compute reboot, no longer have libkml in my gdal so can't extract more track kmls from the overall kmz... workaround is at bottom of notebook, probably not the best way of doing it but seems to be working"
   ]
  },
  {
   "cell_type": "code",
   "execution_count": 41,
   "id": "744c50e5",
   "metadata": {},
   "outputs": [
    {
     "data": {
      "text/plain": [
       "<AxesSubplot:>"
      ]
     },
     "execution_count": 41,
     "metadata": {},
     "output_type": "execute_result"
    },
    {
     "data": {
      "image/png": "[encoded data removed]",
      "text/plain": [
       "<Figure size 432x288 with 1 Axes>"
      ]
     },
     "metadata": {
      "needs_background": "light"
     },
     "output_type": "display_data"
    }
   ],
   "source": [
    "#reading in a kml for a single frame to see how it looks\n",
    "#this is the kml file made from querying a spec path (98) in gdal cl\n",
    "gpd.io.file.fiona.drvsupport.supported_drivers['KML'] = 'rw'\n",
    "nisar_frame98 = gpd.read_file('/Users/emmamarshall/OneDrive - University of Utah/nisar_prepwork/nisar_frames/T98A.kml', driver = 'KML')\n",
    "nisar_frame98.plot()"
   ]
  },
  {
   "cell_type": "code",
   "execution_count": 10,
   "id": "04e583e7",
   "metadata": {},
   "outputs": [],
   "source": [
    "def nisar_scenes_w_rgi_glaciers_single_track(rgi_path, nisar_df):\n",
    "    '''this function takes a path to a dir containing rgi files (all rergions) and a \n",
    "    dataframe of nisar frames within a single track (defined earlier in notebook) \n",
    "    and returns a dataframe that contains only the frames containing rgi glaciers of \n",
    "    interest (currently over 10km2)\n",
    "    '''\n",
    "    \n",
    "    #read in rgi shp files from directory containing files for all rgi regions \n",
    "    rgi_ls = os.listdir(rgi_path)\n",
    "    #make dict where each key is region name, each value is the geo dataframe w/ rgi glaciers for that region\n",
    "    rgi_region_key_ls = []\n",
    "    rgi_region_val_ls = []\n",
    "    for element in range(len(rgi_ls)):\n",
    "        region_name = rgi_ls[element][:-8]\n",
    "        if rgi_ls[element][-4:] == '.shp':\n",
    "            rgi_region_key_ls.append(region_name)\n",
    "            rgi_gpdf = gpd.read_file(f'/Users/emmamarshall/OneDrive - University of Utah/nisar_prepwork/rgi_1km/{rgi_ls[element]}')\n",
    "            rgi_region_val_ls.append(rgi_gpdf)\n",
    "    rgi_dict = dict(zip(rgi_region_key_ls, rgi_region_val_ls))\n",
    "\n",
    "    #because i read in rgi data for all glaciers larger than 1km2, make a new dict w/ same setup but only glaciers larger than 10km2\n",
    "    rgi_10km_dict = {k:v.loc[v['Area'] >=10.] for (k,v) in rgi_dict.items()}\n",
    "    #now, make dict into a single df for all regions\n",
    "    rgi_df = pd.concat(list(rgi_10km_dict.values()), axis=0)\n",
    "\n",
    "    #use spatial join to select nisar frames containing rgi glaciers \n",
    "    join_df = nisar_df.sjoin(rgi_df, how='inner')\n",
    "    #make list of frame names (theres a row for every glacier so there will be repeat rows wrt nisar frame id)\n",
    "    nisar_frames_ls = join_df['Description'].to_list()\n",
    "    #find unique values in the list\n",
    "    nisar_frames_uni = list(set(nisar_frames_ls))\n",
    "    print(nisar_frames_uni)\n",
    "    \n",
    "    #now, want to go back to original nisar frame df and take only the rows with target glaciers\n",
    "    nisar_df_sub = nisar_df[nisar_df['Name'].isin(nisar_frames_uni)]\n",
    "    \n",
    "    #plot to take a look\n",
    "    fig, ax = plt.subplots()\n",
    "    #plot selected nisar scenes\n",
    "    nisar_df_sub.plot(ax=ax, color='blue')\n",
    "    #plot all nisar scenes w/ low alpha\n",
    "    nisar_df.plot(ax=ax, color='red', alpha=0.3)\n",
    "    #plot glacier outlines\n",
    "    rgi_df.plot(ax=ax, color='green')\n",
    "    \n",
    "    #return join_df\n",
    "    return nisar_df_sub\n",
    "    "
   ]
  },
  {
   "cell_type": "code",
   "execution_count": 14,
   "id": "abaf4f77",
   "metadata": {},
   "outputs": [],
   "source": [
    "rgi_path1 = '/Users/emmamarshall/OneDrive - University of Utah/nisar_prepwork/rgi_1km'\n",
    "nisar_path98 = '/Users/emmamarshall/OneDrive - University of Utah/nisar_prepwork/nisar_frames/T98A.kml'"
   ]
  },
  {
   "cell_type": "code",
   "execution_count": 15,
   "id": "bf601230",
   "metadata": {},
   "outputs": [
    {
     "name": "stdout",
     "output_type": "stream",
     "text": [
      "['L098_F015_AF', 'L098_F020_AF', 'L098_F043_AF', 'L098_F016_AF', 'L098_F018_AF', 'L098_F044_AF', 'L098_F019_AF', 'L098_F017_AF', 'L098_F023_AF']\n"
     ]
    },
    {
     "data": {
      "image/png": "[encoded data removed]",
      "text/plain": [
       "<Figure size 432x288 with 1 Axes>"
      ]
     },
     "metadata": {
      "needs_background": "light"
     },
     "output_type": "display_data"
    }
   ],
   "source": [
    "nisar_df98 = nisar_scenes_w_rgi_glaciers_from_path(rgi_path1, nisar_frame98)"
   ]
  },
  {
   "cell_type": "code",
   "execution_count": 16,
   "id": "c61fead2",
   "metadata": {},
   "outputs": [
    {
     "data": {
      "text/html": [
       "<div>\n",
       "<style scoped>\n",
       "    .dataframe tbody tr th:only-of-type {\n",
       "        vertical-align: middle;\n",
       "    }\n",
       "\n",
       "    .dataframe tbody tr th {\n",
       "        vertical-align: top;\n",
       "    }\n",
       "\n",
       "    .dataframe thead th {\n",
       "        text-align: right;\n",
       "    }\n",
       "</style>\n",
       "<table border=\"1\" class=\"dataframe\">\n",
       "  <thead>\n",
       "    <tr style=\"text-align: right;\">\n",
       "      <th></th>\n",
       "      <th>Name</th>\n",
       "      <th>Description</th>\n",
       "      <th>geometry</th>\n",
       "    </tr>\n",
       "  </thead>\n",
       "  <tbody>\n",
       "    <tr>\n",
       "      <th>14</th>\n",
       "      <td>L098_F015_AF</td>\n",
       "      <td>L098_F015_AF</td>\n",
       "      <td>POLYGON ((87.10546 26.01420, 86.58286 25.88828...</td>\n",
       "    </tr>\n",
       "    <tr>\n",
       "      <th>15</th>\n",
       "      <td>L098_F016_AF</td>\n",
       "      <td>L098_F016_AF</td>\n",
       "      <td>POLYGON ((86.51128 28.00083, 85.97997 27.87250...</td>\n",
       "    </tr>\n",
       "    <tr>\n",
       "      <th>16</th>\n",
       "      <td>L098_F017_AF</td>\n",
       "      <td>L098_F017_AF</td>\n",
       "      <td>POLYGON ((85.89380 29.98624, 85.35286 29.85532...</td>\n",
       "    </tr>\n",
       "    <tr>\n",
       "      <th>17</th>\n",
       "      <td>L098_F018_AF</td>\n",
       "      <td>L098_F018_AF</td>\n",
       "      <td>POLYGON ((85.25042 31.97028, 84.69887 31.83657...</td>\n",
       "    </tr>\n",
       "    <tr>\n",
       "      <th>18</th>\n",
       "      <td>L098_F019_AF</td>\n",
       "      <td>L098_F019_AF</td>\n",
       "      <td>POLYGON ((84.57821 33.95280, 84.01499 33.81608...</td>\n",
       "    </tr>\n",
       "    <tr>\n",
       "      <th>19</th>\n",
       "      <td>L098_F020_AF</td>\n",
       "      <td>L098_F020_AF</td>\n",
       "      <td>POLYGON ((83.87378 35.93359, 83.29776 35.79363...</td>\n",
       "    </tr>\n",
       "    <tr>\n",
       "      <th>22</th>\n",
       "      <td>L098_F023_AF</td>\n",
       "      <td>L098_F023_AF</td>\n",
       "      <td>POLYGON ((81.52539 41.86333, 80.90324 41.71183...</td>\n",
       "    </tr>\n",
       "    <tr>\n",
       "      <th>42</th>\n",
       "      <td>L098_F043_AF</td>\n",
       "      <td>L098_F043_AF</td>\n",
       "      <td>POLYGON ((24.60155 76.58967, 23.82190 76.13354...</td>\n",
       "    </tr>\n",
       "    <tr>\n",
       "      <th>43</th>\n",
       "      <td>L098_F044_AF</td>\n",
       "      <td>L098_F044_AF</td>\n",
       "      <td>POLYGON ((17.01307 77.17338, 16.45766 76.69785...</td>\n",
       "    </tr>\n",
       "  </tbody>\n",
       "</table>\n",
       "</div>"
      ],
      "text/plain": [
       "            Name   Description  \\\n",
       "14  L098_F015_AF  L098_F015_AF   \n",
       "15  L098_F016_AF  L098_F016_AF   \n",
       "16  L098_F017_AF  L098_F017_AF   \n",
       "17  L098_F018_AF  L098_F018_AF   \n",
       "18  L098_F019_AF  L098_F019_AF   \n",
       "19  L098_F020_AF  L098_F020_AF   \n",
       "22  L098_F023_AF  L098_F023_AF   \n",
       "42  L098_F043_AF  L098_F043_AF   \n",
       "43  L098_F044_AF  L098_F044_AF   \n",
       "\n",
       "                                             geometry  \n",
       "14  POLYGON ((87.10546 26.01420, 86.58286 25.88828...  \n",
       "15  POLYGON ((86.51128 28.00083, 85.97997 27.87250...  \n",
       "16  POLYGON ((85.89380 29.98624, 85.35286 29.85532...  \n",
       "17  POLYGON ((85.25042 31.97028, 84.69887 31.83657...  \n",
       "18  POLYGON ((84.57821 33.95280, 84.01499 33.81608...  \n",
       "19  POLYGON ((83.87378 35.93359, 83.29776 35.79363...  \n",
       "22  POLYGON ((81.52539 41.86333, 80.90324 41.71183...  \n",
       "42  POLYGON ((24.60155 76.58967, 23.82190 76.13354...  \n",
       "43  POLYGON ((17.01307 77.17338, 16.45766 76.69785...  "
      ]
     },
     "execution_count": 16,
     "metadata": {},
     "output_type": "execute_result"
    }
   ],
   "source": [
    "nisar_df98"
   ]
  },
  {
   "cell_type": "markdown",
   "id": "b58e8036",
   "metadata": {},
   "source": [
    "**now, trying to scale up to more tracks but can't use gdal ogr2ogr...** \n",
    "- solution: opened the full kmz in qgis, used batch vector layer saver to save every layer as its own shp file (in .../nisar_frames/frame_shps/), \n",
    "- making a dict (similar to rgi) with a key for each track and associated gpdf as the value for that key\n"
   ]
  },
  {
   "cell_type": "code",
   "execution_count": 68,
   "id": "89bf0543",
   "metadata": {},
   "outputs": [
    {
     "name": "stdout",
     "output_type": "stream",
     "text": [
      "1557\n",
      "346\n"
     ]
    }
   ],
   "source": [
    "#4/6 - 11 pm - figured out how to save/export each individual track as shp file from qgis so now triyng to work with that... \n",
    "nisar_shp_ls = os.listdir('/Users/emmamarshall/OneDrive - University of Utah/nisar_prepwork/nisar_frames/frame_shps/Esri Shapefile')\n",
    "print(len(nisar_shp_ls))\n",
    "\n",
    "#make dict where each key is track name, each value is the geo dataframe w/ nisar scenes for that track \n",
    "nisar_frame_key_ls = []\n",
    "nisar_frame_val_ls = []\n",
    "for element in range(len(nisar_shp_ls)):\n",
    "    cut_section = nisar_shp_ls[element][:19]\n",
    "    #print(cut_section)\n",
    "    frame_name_orig = nisar_shp_ls[element][19:]\n",
    "    frame_name = frame_name_orig.replace(\" \", \"_\")\n",
    "    #print(frame_name)\n",
    "    \n",
    "    if frame_name[-4:] == '.shp':\n",
    "        nisar_frame_key_ls.append(frame_name)\n",
    "        nisar_frame_gpdf = gpd.read_file(f'/Users/emmamarshall/OneDrive - University of Utah/nisar_prepwork/nisar_frames/frame_shps/Esri Shapefile/{nisar_shp_ls[element]}')\n",
    "        nisar_frame_val_ls.append(nisar_frame_gpdf)\n",
    "nisar_frame_dict = dict(zip(nisar_frame_key_ls, nisar_frame_val_ls))\n",
    "print(len(nisar_frame_key_ls))\n",
    "\n"
   ]
  },
  {
   "cell_type": "code",
   "execution_count": 70,
   "id": "0ba2b2bf",
   "metadata": {},
   "outputs": [
    {
     "data": {
      "text/plain": [
       "(30448, 19)"
      ]
     },
     "execution_count": 70,
     "metadata": {},
     "output_type": "execute_result"
    }
   ],
   "source": [
    "#now, make dict into a single df for all tracks\n",
    "nisar_df_full = pd.concat(list(nisar_frame_dict.values()), axis=0)\n",
    "nisar_df_full.shape   "
   ]
  },
  {
   "cell_type": "markdown",
   "id": "68ad1600",
   "metadata": {},
   "source": [
    "**next, want a function similar to the above function but it takes a df of all rgi glaciers and a df of all nisar scenes and returns nisar scenes containing glaciers of interest**"
   ]
  },
  {
   "cell_type": "code",
   "execution_count": 71,
   "id": "27694e79",
   "metadata": {},
   "outputs": [],
   "source": [
    "#first make rgi_df that will be input to new nf (same as above just out side the original function)\n",
    "rgi_path_n =  '/Users/emmamarshall/OneDrive - University of Utah/nisar_prepwork/rgi_1km'\n",
    "\n",
    "#read in rgi shp files from directory containing files for all rgi regions \n",
    "rgi_ls = os.listdir(rgi_path_n)\n",
    "#make dict where each key is region name, each value is the geo dataframe w/ rgi glaciers for that region\n",
    "rgi_region_key_ls = []\n",
    "rgi_region_val_ls = []\n",
    "for element in range(len(rgi_ls)):\n",
    "    region_name = rgi_ls[element][:-8]\n",
    "    if rgi_ls[element][-4:] == '.shp':\n",
    "        rgi_region_key_ls.append(region_name)\n",
    "        rgi_gpdf = gpd.read_file(f'/Users/emmamarshall/OneDrive - University of Utah/nisar_prepwork/rgi_1km/{rgi_ls[element]}')\n",
    "        rgi_region_val_ls.append(rgi_gpdf)\n",
    "rgi_dict = dict(zip(rgi_region_key_ls, rgi_region_val_ls))\n",
    "\n",
    "#because read in rgi data for all glaciers larger than 1km2, make a new dict w/ same setup but only glaciers larger than 10km2\n",
    "rgi_10km_dict = {k:v.loc[v['Area'] >=10.] for (k,v) in rgi_dict.items()} ## change the area value in this line to change threshold\n",
    "#now, make dict into a single df for all regions\n",
    "rgi_df = pd.concat(list(rgi_10km_dict.values()), axis=0)"
   ]
  },
  {
   "cell_type": "code",
   "execution_count": 72,
   "id": "3c437f96",
   "metadata": {},
   "outputs": [],
   "source": [
    "def nisar_rgi_scene_seletion_alltracks(rgi_df, nisar_df): \n",
    "    \n",
    "    #use spatial join to select nisar frames containing rgi glaciers \n",
    "    join_df = nisar_df.sjoin(rgi_df, how='inner')\n",
    "    #make list of frame names (theres a row for every glacier so there will be repeat rows wrt nisar frame id)\n",
    "    #print(join_df.columns)\n",
    "    nisar_frames_ls = join_df['Name_left'].to_list()\n",
    "    #find unique values in the list\n",
    "    nisar_frames_uni = list(set(nisar_frames_ls))\n",
    "    #print(nisar_frames_uni)\n",
    "    \n",
    "    #now, want to go back to original nisar frame df and take only the rows with target glaciers\n",
    "    nisar_df_sub = nisar_df[nisar_df['Name'].isin(nisar_frames_uni)]\n",
    "    \n",
    "    #plot to take a look\n",
    "    fig, ax = plt.subplots()\n",
    "    #plot selected nisar scenes\n",
    "    nisar_df_sub.plot(ax=ax, color='blue')\n",
    "    #plot all nisar scenes w/ low alpha\n",
    "    nisar_df.plot(ax=ax, color='red', alpha=0.05)\n",
    "    #plot glacier outlines\n",
    "    rgi_df.plot(ax=ax, color='green')\n",
    "    \n",
    "    #return join_df\n",
    "    return nisar_df_sub\n",
    "    "
   ]
  },
  {
   "cell_type": "code",
   "execution_count": 73,
   "id": "a21ddf86",
   "metadata": {},
   "outputs": [
    {
     "data": {
      "image/png": "[encoded data removed]",
      "text/plain": [
       "<Figure size 432x288 with 1 Axes>"
      ]
     },
     "metadata": {
      "needs_background": "light"
     },
     "output_type": "display_data"
    }
   ],
   "source": [
    "nisar_all_scenes_w_glaciers= nisar_rgi_scene_seletion_alltracks(rgi_df, nisar_df_full)"
   ]
  },
  {
   "cell_type": "code",
   "execution_count": 75,
   "id": "d635188b",
   "metadata": {},
   "outputs": [
    {
     "data": {
      "text/html": [
       "<div>\n",
       "<style scoped>\n",
       "    .dataframe tbody tr th:only-of-type {\n",
       "        vertical-align: middle;\n",
       "    }\n",
       "\n",
       "    .dataframe tbody tr th {\n",
       "        vertical-align: top;\n",
       "    }\n",
       "\n",
       "    .dataframe thead th {\n",
       "        text-align: right;\n",
       "    }\n",
       "</style>\n",
       "<table border=\"1\" class=\"dataframe\">\n",
       "  <thead>\n",
       "    <tr style=\"text-align: right;\">\n",
       "      <th></th>\n",
       "      <th>Name</th>\n",
       "      <th>descriptio</th>\n",
       "      <th>timestamp</th>\n",
       "      <th>begin</th>\n",
       "      <th>end</th>\n",
       "      <th>altitudeMo</th>\n",
       "      <th>tessellate</th>\n",
       "      <th>extrude</th>\n",
       "      <th>visibility</th>\n",
       "      <th>drawOrder</th>\n",
       "      <th>icon</th>\n",
       "      <th>track</th>\n",
       "      <th>frame</th>\n",
       "      <th>pass</th>\n",
       "      <th>lookside</th>\n",
       "      <th>swath</th>\n",
       "      <th>mode</th>\n",
       "      <th>epsg</th>\n",
       "      <th>geometry</th>\n",
       "    </tr>\n",
       "  </thead>\n",
       "  <tbody>\n",
       "    <tr>\n",
       "      <th>24</th>\n",
       "      <td>L005_F025_AF</td>\n",
       "      <td>L005_F025_AF</td>\n",
       "      <td>None</td>\n",
       "      <td>None</td>\n",
       "      <td>None</td>\n",
       "      <td>None</td>\n",
       "      <td>-1</td>\n",
       "      <td>0</td>\n",
       "      <td>1</td>\n",
       "      <td>None</td>\n",
       "      <td>None</td>\n",
       "      <td>5</td>\n",
       "      <td>25</td>\n",
       "      <td>Ascending</td>\n",
       "      <td>Left</td>\n",
       "      <td>Full</td>\n",
       "      <td>TBD</td>\n",
       "      <td>TBD</td>\n",
       "      <td>POLYGON ((-117.97577 45.80316, -118.63616 45.6...</td>\n",
       "    </tr>\n",
       "    <tr>\n",
       "      <th>26</th>\n",
       "      <td>L005_F027_AF</td>\n",
       "      <td>L005_F027_AF</td>\n",
       "      <td>None</td>\n",
       "      <td>None</td>\n",
       "      <td>None</td>\n",
       "      <td>None</td>\n",
       "      <td>-1</td>\n",
       "      <td>0</td>\n",
       "      <td>1</td>\n",
       "      <td>None</td>\n",
       "      <td>None</td>\n",
       "      <td>5</td>\n",
       "      <td>27</td>\n",
       "      <td>Ascending</td>\n",
       "      <td>Left</td>\n",
       "      <td>Full</td>\n",
       "      <td>TBD</td>\n",
       "      <td>TBD</td>\n",
       "      <td>POLYGON ((-120.06378 49.72785, -120.77000 49.5...</td>\n",
       "    </tr>\n",
       "    <tr>\n",
       "      <th>27</th>\n",
       "      <td>L005_F028_AF</td>\n",
       "      <td>L005_F028_AF</td>\n",
       "      <td>None</td>\n",
       "      <td>None</td>\n",
       "      <td>None</td>\n",
       "      <td>None</td>\n",
       "      <td>-1</td>\n",
       "      <td>0</td>\n",
       "      <td>1</td>\n",
       "      <td>None</td>\n",
       "      <td>None</td>\n",
       "      <td>5</td>\n",
       "      <td>28</td>\n",
       "      <td>Ascending</td>\n",
       "      <td>Left</td>\n",
       "      <td>Full</td>\n",
       "      <td>TBD</td>\n",
       "      <td>TBD</td>\n",
       "      <td>POLYGON ((-121.23663 51.68312, -121.96897 51.5...</td>\n",
       "    </tr>\n",
       "    <tr>\n",
       "      <th>29</th>\n",
       "      <td>L005_F030_AF</td>\n",
       "      <td>L005_F030_AF</td>\n",
       "      <td>None</td>\n",
       "      <td>None</td>\n",
       "      <td>None</td>\n",
       "      <td>None</td>\n",
       "      <td>-1</td>\n",
       "      <td>0</td>\n",
       "      <td>1</td>\n",
       "      <td>None</td>\n",
       "      <td>None</td>\n",
       "      <td>5</td>\n",
       "      <td>30</td>\n",
       "      <td>Ascending</td>\n",
       "      <td>Left</td>\n",
       "      <td>Full</td>\n",
       "      <td>TBD</td>\n",
       "      <td>TBD</td>\n",
       "      <td>POLYGON ((-123.91558 55.57533, -124.70751 55.3...</td>\n",
       "    </tr>\n",
       "    <tr>\n",
       "      <th>0</th>\n",
       "      <td>L135_F046_DF</td>\n",
       "      <td>L135_F046_DF</td>\n",
       "      <td>None</td>\n",
       "      <td>None</td>\n",
       "      <td>None</td>\n",
       "      <td>None</td>\n",
       "      <td>-1</td>\n",
       "      <td>0</td>\n",
       "      <td>1</td>\n",
       "      <td>None</td>\n",
       "      <td>None</td>\n",
       "      <td>135</td>\n",
       "      <td>46</td>\n",
       "      <td>Descending</td>\n",
       "      <td>Left</td>\n",
       "      <td>Full</td>\n",
       "      <td>TBD</td>\n",
       "      <td>TBD</td>\n",
       "      <td>POLYGON ((151.37829 77.56273, 151.60098 77.073...</td>\n",
       "    </tr>\n",
       "    <tr>\n",
       "      <th>...</th>\n",
       "      <td>...</td>\n",
       "      <td>...</td>\n",
       "      <td>...</td>\n",
       "      <td>...</td>\n",
       "      <td>...</td>\n",
       "      <td>...</td>\n",
       "      <td>...</td>\n",
       "      <td>...</td>\n",
       "      <td>...</td>\n",
       "      <td>...</td>\n",
       "      <td>...</td>\n",
       "      <td>...</td>\n",
       "      <td>...</td>\n",
       "      <td>...</td>\n",
       "      <td>...</td>\n",
       "      <td>...</td>\n",
       "      <td>...</td>\n",
       "      <td>...</td>\n",
       "      <td>...</td>\n",
       "    </tr>\n",
       "    <tr>\n",
       "      <th>78</th>\n",
       "      <td>L082_F124_DF</td>\n",
       "      <td>L082_F124_DF</td>\n",
       "      <td>None</td>\n",
       "      <td>None</td>\n",
       "      <td>None</td>\n",
       "      <td>None</td>\n",
       "      <td>-1</td>\n",
       "      <td>0</td>\n",
       "      <td>1</td>\n",
       "      <td>None</td>\n",
       "      <td>None</td>\n",
       "      <td>82</td>\n",
       "      <td>124</td>\n",
       "      <td>Descending</td>\n",
       "      <td>Left</td>\n",
       "      <td>Full</td>\n",
       "      <td>TBD</td>\n",
       "      <td>TBD</td>\n",
       "      <td>POLYGON ((-71.64739 -70.38061, -70.19461 -70.5...</td>\n",
       "    </tr>\n",
       "    <tr>\n",
       "      <th>79</th>\n",
       "      <td>L082_F125_DF</td>\n",
       "      <td>L082_F125_DF</td>\n",
       "      <td>None</td>\n",
       "      <td>None</td>\n",
       "      <td>None</td>\n",
       "      <td>None</td>\n",
       "      <td>-1</td>\n",
       "      <td>0</td>\n",
       "      <td>1</td>\n",
       "      <td>None</td>\n",
       "      <td>None</td>\n",
       "      <td>82</td>\n",
       "      <td>125</td>\n",
       "      <td>Descending</td>\n",
       "      <td>Left</td>\n",
       "      <td>Full</td>\n",
       "      <td>TBD</td>\n",
       "      <td>TBD</td>\n",
       "      <td>POLYGON ((-73.38724 -72.40125, -71.78029 -72.5...</td>\n",
       "    </tr>\n",
       "    <tr>\n",
       "      <th>30</th>\n",
       "      <td>L051_F031_AF</td>\n",
       "      <td>L051_F031_AF</td>\n",
       "      <td>None</td>\n",
       "      <td>None</td>\n",
       "      <td>None</td>\n",
       "      <td>None</td>\n",
       "      <td>-1</td>\n",
       "      <td>0</td>\n",
       "      <td>1</td>\n",
       "      <td>None</td>\n",
       "      <td>None</td>\n",
       "      <td>51</td>\n",
       "      <td>31</td>\n",
       "      <td>Ascending</td>\n",
       "      <td>Left</td>\n",
       "      <td>Full</td>\n",
       "      <td>TBD</td>\n",
       "      <td>TBD</td>\n",
       "      <td>POLYGON ((165.86126 57.50978, 165.03568 57.304...</td>\n",
       "    </tr>\n",
       "    <tr>\n",
       "      <th>66</th>\n",
       "      <td>L051_F155_AF</td>\n",
       "      <td>L051_F155_AF</td>\n",
       "      <td>None</td>\n",
       "      <td>None</td>\n",
       "      <td>None</td>\n",
       "      <td>None</td>\n",
       "      <td>-1</td>\n",
       "      <td>0</td>\n",
       "      <td>1</td>\n",
       "      <td>None</td>\n",
       "      <td>None</td>\n",
       "      <td>51</td>\n",
       "      <td>155</td>\n",
       "      <td>Ascending</td>\n",
       "      <td>Left</td>\n",
       "      <td>Full</td>\n",
       "      <td>TBD</td>\n",
       "      <td>TBD</td>\n",
       "      <td>POLYGON ((172.24164 -45.91810, 171.53973 -46.0...</td>\n",
       "    </tr>\n",
       "    <tr>\n",
       "      <th>67</th>\n",
       "      <td>L051_F156_AF</td>\n",
       "      <td>L051_F156_AF</td>\n",
       "      <td>None</td>\n",
       "      <td>None</td>\n",
       "      <td>None</td>\n",
       "      <td>None</td>\n",
       "      <td>-1</td>\n",
       "      <td>0</td>\n",
       "      <td>1</td>\n",
       "      <td>None</td>\n",
       "      <td>None</td>\n",
       "      <td>51</td>\n",
       "      <td>156</td>\n",
       "      <td>Ascending</td>\n",
       "      <td>Left</td>\n",
       "      <td>Full</td>\n",
       "      <td>TBD</td>\n",
       "      <td>TBD</td>\n",
       "      <td>POLYGON ((171.71747 -43.90599, 171.04045 -43.9...</td>\n",
       "    </tr>\n",
       "  </tbody>\n",
       "</table>\n",
       "<p>1241 rows × 19 columns</p>\n",
       "</div>"
      ],
      "text/plain": [
       "            Name    descriptio timestamp begin   end altitudeMo  tessellate  \\\n",
       "24  L005_F025_AF  L005_F025_AF      None  None  None       None          -1   \n",
       "26  L005_F027_AF  L005_F027_AF      None  None  None       None          -1   \n",
       "27  L005_F028_AF  L005_F028_AF      None  None  None       None          -1   \n",
       "29  L005_F030_AF  L005_F030_AF      None  None  None       None          -1   \n",
       "0   L135_F046_DF  L135_F046_DF      None  None  None       None          -1   \n",
       "..           ...           ...       ...   ...   ...        ...         ...   \n",
       "78  L082_F124_DF  L082_F124_DF      None  None  None       None          -1   \n",
       "79  L082_F125_DF  L082_F125_DF      None  None  None       None          -1   \n",
       "30  L051_F031_AF  L051_F031_AF      None  None  None       None          -1   \n",
       "66  L051_F155_AF  L051_F155_AF      None  None  None       None          -1   \n",
       "67  L051_F156_AF  L051_F156_AF      None  None  None       None          -1   \n",
       "\n",
       "    extrude  visibility drawOrder  icon track frame        pass lookside  \\\n",
       "24        0           1      None  None     5    25   Ascending     Left   \n",
       "26        0           1      None  None     5    27   Ascending     Left   \n",
       "27        0           1      None  None     5    28   Ascending     Left   \n",
       "29        0           1      None  None     5    30   Ascending     Left   \n",
       "0         0           1      None  None   135    46  Descending     Left   \n",
       "..      ...         ...       ...   ...   ...   ...         ...      ...   \n",
       "78        0           1      None  None    82   124  Descending     Left   \n",
       "79        0           1      None  None    82   125  Descending     Left   \n",
       "30        0           1      None  None    51    31   Ascending     Left   \n",
       "66        0           1      None  None    51   155   Ascending     Left   \n",
       "67        0           1      None  None    51   156   Ascending     Left   \n",
       "\n",
       "   swath mode epsg                                           geometry  \n",
       "24  Full  TBD  TBD  POLYGON ((-117.97577 45.80316, -118.63616 45.6...  \n",
       "26  Full  TBD  TBD  POLYGON ((-120.06378 49.72785, -120.77000 49.5...  \n",
       "27  Full  TBD  TBD  POLYGON ((-121.23663 51.68312, -121.96897 51.5...  \n",
       "29  Full  TBD  TBD  POLYGON ((-123.91558 55.57533, -124.70751 55.3...  \n",
       "0   Full  TBD  TBD  POLYGON ((151.37829 77.56273, 151.60098 77.073...  \n",
       "..   ...  ...  ...                                                ...  \n",
       "78  Full  TBD  TBD  POLYGON ((-71.64739 -70.38061, -70.19461 -70.5...  \n",
       "79  Full  TBD  TBD  POLYGON ((-73.38724 -72.40125, -71.78029 -72.5...  \n",
       "30  Full  TBD  TBD  POLYGON ((165.86126 57.50978, 165.03568 57.304...  \n",
       "66  Full  TBD  TBD  POLYGON ((172.24164 -45.91810, 171.53973 -46.0...  \n",
       "67  Full  TBD  TBD  POLYGON ((171.71747 -43.90599, 171.04045 -43.9...  \n",
       "\n",
       "[1241 rows x 19 columns]"
      ]
     },
     "execution_count": 75,
     "metadata": {},
     "output_type": "execute_result"
    }
   ],
   "source": [
    "nisar_all_scenes_w_glaciers"
   ]
  },
  {
   "cell_type": "code",
   "execution_count": 76,
   "id": "cfd28b2c",
   "metadata": {},
   "outputs": [],
   "source": [
    "# ^^ above object (nisar_all_scenes_w_glaciers) should be a dataframe of all nisar scenes that contain glaciers > 10km2\n",
    "# looks like 1241 in total"
   ]
  },
  {
   "cell_type": "markdown",
   "id": "896e4cfc",
   "metadata": {},
   "source": [
    "**different size thresholds** </br>\n",
    "glacier size cutoff: 10km2 -- # scenes containing glaciers: 1241 </br>\n",
    "      glacier size: 20km2 -- # scenes: 1094 </br>\n",
    "      glacier size: 50km2 -- # scenes: 866 </br>\n",
    "      glacier size: 100km2 -- # scenes: 735"
   ]
  },
  {
   "cell_type": "code",
   "execution_count": 77,
   "id": "ac2a929f",
   "metadata": {},
   "outputs": [
    {
     "data": {
      "text/plain": [
       "Ascending     639\n",
       "Descending    602\n",
       "Name: pass, dtype: int64"
      ]
     },
     "execution_count": 77,
     "metadata": {},
     "output_type": "execute_result"
    }
   ],
   "source": [
    "nisar_all_scenes_w_glaciers['pass'].value_counts()"
   ]
  },
  {
   "cell_type": "code",
   "execution_count": 78,
   "id": "ab7d42fb",
   "metadata": {},
   "outputs": [
    {
     "data": {
      "text/plain": [
       "169    18\n",
       "11     16\n",
       "5      15\n",
       "97     14\n",
       "106    14\n",
       "       ..\n",
       "64      2\n",
       "67      2\n",
       "148     2\n",
       "94      2\n",
       "76      1\n",
       "Name: track, Length: 173, dtype: int64"
      ]
     },
     "execution_count": 78,
     "metadata": {},
     "output_type": "execute_result"
    }
   ],
   "source": [
    "nisar_all_scenes_w_glaciers['track'].value_counts()"
   ]
  },
  {
   "cell_type": "code",
   "execution_count": null,
   "id": "8f7ef4f5",
   "metadata": {},
   "outputs": [],
   "source": []
  },
  {
   "cell_type": "code",
   "execution_count": null,
   "id": "70895e6d",
   "metadata": {},
   "outputs": [],
   "source": []
  }
 ],
 "metadata": {
  "kernelspec": {
   "display_name": "Python [conda env:geopandas_work]",
   "language": "python",
   "name": "conda-env-geopandas_work-py"
  },
  "language_info": {
   "codemirror_mode": {
    "name": "ipython",
    "version": 3
   },
   "file_extension": ".py",
   "mimetype": "text/x-python",
   "name": "python",
   "nbconvert_exporter": "python",
   "pygments_lexer": "ipython3",
   "version": "3.10.2"
  }
 },
 "nbformat": 4,
 "nbformat_minor": 5
}
