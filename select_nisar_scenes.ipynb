{
 "cells": [
  {
   "cell_type": "code",
   "execution_count": 1,
   "id": "3ea0f1a8",
   "metadata": {},
   "outputs": [],
   "source": [
    "#4-6, notebook to import NISAR frames and RGI data, find NISAR frames w/ glaciers of interest (10km2 or larger)"
   ]
  },
  {
   "cell_type": "code",
   "execution_count": 8,
   "id": "850790a6",
   "metadata": {},
   "outputs": [],
   "source": [
    "import geopandas as gpd\n",
    "import os\n",
    "import numpy as np\n",
    "import xarray as xr\n",
    "import rioxarray as rxr\n",
    "import matplotlib.pyplot as plt\n",
    "from geocube.api.core import make_geocube\n",
    "from shapely import geometry\n",
    "import fiona\n",
    "import pandas as pd\n",
    "\n",
    "import cartopy\n",
    "import cartopy.crs as ccrs\n",
    "import matplotlib.pyplot as plt\n",
    "import cartopy.feature as cfeature\n"
   ]
  },
  {
   "cell_type": "code",
   "execution_count": 9,
   "id": "744c50e5",
   "metadata": {},
   "outputs": [
    {
     "data": {
      "text/plain": [
       "<AxesSubplot:>"
      ]
     },
     "execution_count": 9,
     "metadata": {},
     "output_type": "execute_result"
    },
    {
     "data": {
      "image/png": "[encoded data removed]",
      "text/plain": [
       "<Figure size 432x288 with 1 Axes>"
      ]
     },
     "metadata": {
      "needs_background": "light"
     },
     "output_type": "display_data"
    }
   ],
   "source": [
    "#reading in a kml for a single frame to see how it looks\n",
    "#this is the kml file made from querying a spec path (98) in gdal cl\n",
    "gpd.io.file.fiona.drvsupport.supported_drivers['KML'] = 'rw'\n",
    "nisar_frame98 = gpd.read_file('/Users/emmamarshall/OneDrive - University of Utah/nisar_prepwork/nisar_frames/T98A.kml', driver = 'KML')\n",
    "nisar_frame98.plot()"
   ]
  },
  {
   "cell_type": "code",
   "execution_count": 10,
   "id": "04e583e7",
   "metadata": {},
   "outputs": [],
   "source": [
    "def nisar_scenes_w_rgi_glaciers_from_path(rgi_path, nisar_df):\n",
    "    '''this function takes a dataframe of rgi glaciers and a dataframe of nisar frames and \n",
    "    returns a dataframe that contains only the nisar frames containing rgi glaciers '''\n",
    "    \n",
    "    #read in rgi shp files from directory containing files for all rgi regions \n",
    "    rgi_ls = os.listdir(rgi_path)\n",
    "    #make dict where each key is region name, each value is the geo dataframe w/ rgi glaciers for that region\n",
    "    rgi_region_key_ls = []\n",
    "    rgi_region_val_ls = []\n",
    "    for element in range(len(rgi_ls)):\n",
    "        region_name = rgi_ls[element][:-8]\n",
    "        if rgi_ls[element][-4:] == '.shp':\n",
    "            rgi_region_key_ls.append(region_name)\n",
    "            rgi_gpdf = gpd.read_file(f'/Users/emmamarshall/OneDrive - University of Utah/nisar_prepwork/rgi_1km/{rgi_ls[element]}')\n",
    "            rgi_region_val_ls.append(rgi_gpdf)\n",
    "    rgi_dict = dict(zip(rgi_region_key_ls, rgi_region_val_ls))\n",
    "\n",
    "    #because read in rgi data for all glaciers larger than 1km2, make a new dict w/ same setup but only glaciers larger than 10km2\n",
    "    rgi_10km_dict = {k:v.loc[v['Area'] >=10.] for (k,v) in rgi_dict.items()}\n",
    "    #now, make dict into a single df for all regions\n",
    "    rgi_df = pd.concat(list(rgi_10km_dict.values()), axis=0)\n",
    "\n",
    "    \n",
    "    #use spatial join to select nisar frames containing rgi glaciers \n",
    "    join_df = nisar_df.sjoin(rgi_df, how='inner')\n",
    "    #make list of frame names (theres a row for every glacier so there will be repeat rows wrt nisar frame id)\n",
    "    nisar_frames_ls = join_df['Description'].to_list()\n",
    "    #find unique values in the list\n",
    "    nisar_frames_uni = list(set(nisar_frames_ls))\n",
    "    print(nisar_frames_uni)\n",
    "    \n",
    "    #now, want to go back to original nisar frame df and take only the rows with target glaciers\n",
    "    nisar_df_sub = nisar_df[nisar_df['Name'].isin(nisar_frames_uni)]\n",
    "    \n",
    "    #plot to take a look\n",
    "    fig, ax = plt.subplots()\n",
    "    #plot selected nisar scenes\n",
    "    nisar_df_sub.plot(ax=ax, color='blue')\n",
    "    #plot all nisar scenes w/ low alpha\n",
    "    nisar_df.plot(ax=ax, color='red', alpha=0.3)\n",
    "    #plot glacier outlines\n",
    "    rgi_df.plot(ax=ax, color='green')\n",
    "    \n",
    "    #return join_df\n",
    "    return nisar_df_sub\n",
    "    "
   ]
  },
  {
   "cell_type": "code",
   "execution_count": 14,
   "id": "abaf4f77",
   "metadata": {},
   "outputs": [],
   "source": [
    "rgi_path1 = '/Users/emmamarshall/OneDrive - University of Utah/nisar_prepwork/rgi_1km'\n",
    "nisar_path98 = '/Users/emmamarshall/OneDrive - University of Utah/nisar_prepwork/nisar_frames/T98A.kml'"
   ]
  },
  {
   "cell_type": "code",
   "execution_count": 15,
   "id": "bf601230",
   "metadata": {},
   "outputs": [
    {
     "name": "stdout",
     "output_type": "stream",
     "text": [
      "['L098_F015_AF', 'L098_F020_AF', 'L098_F043_AF', 'L098_F016_AF', 'L098_F018_AF', 'L098_F044_AF', 'L098_F019_AF', 'L098_F017_AF', 'L098_F023_AF']\n"
     ]
    },
    {
     "data": {
      "image/png": "[encoded data removed]",
      "text/plain": [
       "<Figure size 432x288 with 1 Axes>"
      ]
     },
     "metadata": {
      "needs_background": "light"
     },
     "output_type": "display_data"
    }
   ],
   "source": [
    "nisar_df98 = nisar_scenes_w_rgi_glaciers_from_path(rgi_path1, nisar_frame98)"
   ]
  },
  {
   "cell_type": "code",
   "execution_count": 16,
   "id": "c61fead2",
   "metadata": {},
   "outputs": [
    {
     "data": {
      "text/html": [
       "<div>\n",
       "<style scoped>\n",
       "    .dataframe tbody tr th:only-of-type {\n",
       "        vertical-align: middle;\n",
       "    }\n",
       "\n",
       "    .dataframe tbody tr th {\n",
       "        vertical-align: top;\n",
       "    }\n",
       "\n",
       "    .dataframe thead th {\n",
       "        text-align: right;\n",
       "    }\n",
       "</style>\n",
       "<table border=\"1\" class=\"dataframe\">\n",
       "  <thead>\n",
       "    <tr style=\"text-align: right;\">\n",
       "      <th></th>\n",
       "      <th>Name</th>\n",
       "      <th>Description</th>\n",
       "      <th>geometry</th>\n",
       "    </tr>\n",
       "  </thead>\n",
       "  <tbody>\n",
       "    <tr>\n",
       "      <th>14</th>\n",
       "      <td>L098_F015_AF</td>\n",
       "      <td>L098_F015_AF</td>\n",
       "      <td>POLYGON ((87.10546 26.01420, 86.58286 25.88828...</td>\n",
       "    </tr>\n",
       "    <tr>\n",
       "      <th>15</th>\n",
       "      <td>L098_F016_AF</td>\n",
       "      <td>L098_F016_AF</td>\n",
       "      <td>POLYGON ((86.51128 28.00083, 85.97997 27.87250...</td>\n",
       "    </tr>\n",
       "    <tr>\n",
       "      <th>16</th>\n",
       "      <td>L098_F017_AF</td>\n",
       "      <td>L098_F017_AF</td>\n",
       "      <td>POLYGON ((85.89380 29.98624, 85.35286 29.85532...</td>\n",
       "    </tr>\n",
       "    <tr>\n",
       "      <th>17</th>\n",
       "      <td>L098_F018_AF</td>\n",
       "      <td>L098_F018_AF</td>\n",
       "      <td>POLYGON ((85.25042 31.97028, 84.69887 31.83657...</td>\n",
       "    </tr>\n",
       "    <tr>\n",
       "      <th>18</th>\n",
       "      <td>L098_F019_AF</td>\n",
       "      <td>L098_F019_AF</td>\n",
       "      <td>POLYGON ((84.57821 33.95280, 84.01499 33.81608...</td>\n",
       "    </tr>\n",
       "    <tr>\n",
       "      <th>19</th>\n",
       "      <td>L098_F020_AF</td>\n",
       "      <td>L098_F020_AF</td>\n",
       "      <td>POLYGON ((83.87378 35.93359, 83.29776 35.79363...</td>\n",
       "    </tr>\n",
       "    <tr>\n",
       "      <th>22</th>\n",
       "      <td>L098_F023_AF</td>\n",
       "      <td>L098_F023_AF</td>\n",
       "      <td>POLYGON ((81.52539 41.86333, 80.90324 41.71183...</td>\n",
       "    </tr>\n",
       "    <tr>\n",
       "      <th>42</th>\n",
       "      <td>L098_F043_AF</td>\n",
       "      <td>L098_F043_AF</td>\n",
       "      <td>POLYGON ((24.60155 76.58967, 23.82190 76.13354...</td>\n",
       "    </tr>\n",
       "    <tr>\n",
       "      <th>43</th>\n",
       "      <td>L098_F044_AF</td>\n",
       "      <td>L098_F044_AF</td>\n",
       "      <td>POLYGON ((17.01307 77.17338, 16.45766 76.69785...</td>\n",
       "    </tr>\n",
       "  </tbody>\n",
       "</table>\n",
       "</div>"
      ],
      "text/plain": [
       "            Name   Description  \\\n",
       "14  L098_F015_AF  L098_F015_AF   \n",
       "15  L098_F016_AF  L098_F016_AF   \n",
       "16  L098_F017_AF  L098_F017_AF   \n",
       "17  L098_F018_AF  L098_F018_AF   \n",
       "18  L098_F019_AF  L098_F019_AF   \n",
       "19  L098_F020_AF  L098_F020_AF   \n",
       "22  L098_F023_AF  L098_F023_AF   \n",
       "42  L098_F043_AF  L098_F043_AF   \n",
       "43  L098_F044_AF  L098_F044_AF   \n",
       "\n",
       "                                             geometry  \n",
       "14  POLYGON ((87.10546 26.01420, 86.58286 25.88828...  \n",
       "15  POLYGON ((86.51128 28.00083, 85.97997 27.87250...  \n",
       "16  POLYGON ((85.89380 29.98624, 85.35286 29.85532...  \n",
       "17  POLYGON ((85.25042 31.97028, 84.69887 31.83657...  \n",
       "18  POLYGON ((84.57821 33.95280, 84.01499 33.81608...  \n",
       "19  POLYGON ((83.87378 35.93359, 83.29776 35.79363...  \n",
       "22  POLYGON ((81.52539 41.86333, 80.90324 41.71183...  \n",
       "42  POLYGON ((24.60155 76.58967, 23.82190 76.13354...  \n",
       "43  POLYGON ((17.01307 77.17338, 16.45766 76.69785...  "
      ]
     },
     "execution_count": 16,
     "metadata": {},
     "output_type": "execute_result"
    }
   ],
   "source": [
    "nisar_df98"
   ]
  },
  {
   "cell_type": "code",
   "execution_count": null,
   "id": "0f376f87",
   "metadata": {},
   "outputs": [],
   "source": []
  }
 ],
 "metadata": {
  "kernelspec": {
   "display_name": "Python [conda env:geopandas_work]",
   "language": "python",
   "name": "conda-env-geopandas_work-py"
  },
  "language_info": {
   "codemirror_mode": {
    "name": "ipython",
    "version": 3
   },
   "file_extension": ".py",
   "mimetype": "text/x-python",
   "name": "python",
   "nbconvert_exporter": "python",
   "pygments_lexer": "ipython3",
   "version": "3.10.2"
  }
 },
 "nbformat": 4,
 "nbformat_minor": 5
}
